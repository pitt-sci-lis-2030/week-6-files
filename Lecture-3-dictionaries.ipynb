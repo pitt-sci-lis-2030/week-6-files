{
 "cells": [
  {
   "cell_type": "markdown",
   "metadata": {},
   "source": [
    "# Week 5 Lecture - Dictionaries\n",
    "\n",
    "\n",
    "* What is a Dictionary\n",
    "* key/value pairs\n",
    "* indexing, but no slicing\n",
    "* Loops?\n",
    "* Making a word counter"
   ]
  },
  {
   "cell_type": "markdown",
   "metadata": {},
   "source": [
    "## What is a Dictionary?\n",
    "\n",
    "Similar to a Python list, a Python Dictionary is a data structure that behaves as a *container* or *collection* for other data values. \n",
    "Like a list becuase there are values and each has an index.\n",
    "Not like a list because the indicies are not implicit, they can be more than numbers, and there is no order.\n",
    "In a dicitonary, data is stored in *key*/*value* pairs. The *key* is the index and and *value* is the actual data.\n",
    "When you create an *item* in a dictionary (another term for the key/value pairs) then you store teh data in the dictionary.\n",
    "To get the data back out we use the key to *lookup* the value in the dictionary. In this way the dictionary behaves like a english language dictionary. The key is like the word and the value is like the definition."
   ]
  },
  {
   "cell_type": "code",
   "execution_count": null,
   "metadata": {},
   "outputs": [],
   "source": [
    "# create a new dictionary\n",
    "english2spanish = dict()\n",
    "# another way to do the same thing using the literal syntax\n",
    "english2spanish = {}"
   ]
  },
  {
   "cell_type": "code",
   "execution_count": null,
   "metadata": {},
   "outputs": [],
   "source": [
    "# add some values by setting the key value pairs using the assignment operator\n",
    "english2spanish[\"one\"] = \"uno\"\n",
    "print(english2spanish) # look at the contents of the entire dictionary"
   ]
  },
  {
   "cell_type": "markdown",
   "metadata": {},
   "source": [
    "Look at the syntax of what Python spit out. Curly braces with two string values separated by a colon. The curly braces mean we are looking at a dictionary (as opposed to a list which uses square brackets `[]`) and the colon always separates the key/value pairs (the *item*). Let's add another item to our `english2spanish` dictionary"
   ]
  },
  {
   "cell_type": "code",
   "execution_count": null,
   "metadata": {},
   "outputs": [],
   "source": [
    "# add another item to the dictionary\n",
    "english2spanish[\"two\"] = \"dos\"\n",
    "print(english2spanish)"
   ]
  },
  {
   "cell_type": "markdown",
   "metadata": {},
   "source": [
    "Now our `english2spanish` dictionary has two items! Each item is separated by a comman (like the way items are separated in lists). Remember, with dictionaries you look at the two things on either side of the colon(`:`) as a single item. The thing to the left of the colon is the key and the right of the colon is the value. So the first item in this dictionary has the key \"one\" and the value \"uno\".\n",
    "\n",
    "We use the familiar *indexing syntax* (square brackets) to get a value based on its key. This is like lists for grabbing an item at  "
   ]
  },
  {
   "cell_type": "code",
   "execution_count": null,
   "metadata": {},
   "outputs": [],
   "source": [
    "# lookup the value associated with the key\n",
    "english2spanish[\"one\"]"
   ]
  },
  {
   "cell_type": "code",
   "execution_count": null,
   "metadata": {},
   "outputs": [],
   "source": [
    "# you can't look up by value\n",
    "english2spanish[\"uno\"]"
   ]
  },
  {
   "cell_type": "markdown",
   "metadata": {},
   "source": [
    "Dictionary keys must be basic data types (ints and strings are most common, but floats work too)"
   ]
  },
  {
   "cell_type": "code",
   "execution_count": null,
   "metadata": {},
   "outputs": [],
   "source": [
    "floaty_keys = {4.5:\"four point five\", 2.1:\"Two point one\"}\n",
    "floaty_keys[4.5]"
   ]
  },
  {
   "cell_type": "markdown",
   "metadata": {},
   "source": [
    "Dictionary values can be any Python data type or data structure, even more dictionaries!"
   ]
  },
  {
   "cell_type": "code",
   "execution_count": null,
   "metadata": {},
   "outputs": [],
   "source": [
    "# make a \"database\" of users\n",
    "user_info = {1:{\"name\":\"Bobby McGee\",\"occupation\":\"seartbreaker\", \"age\":None},\n",
    "            2:{\"name\":\"Kris Kristofferson\", \"occupation\":\"singer-songwriter\", \"age\":84},\n",
    "            3:{\"name\":\"Ray Price\", \"occupation\":\"crooner\", \"age\":87}}"
   ]
  },
  {
   "cell_type": "code",
   "execution_count": null,
   "metadata": {},
   "outputs": [],
   "source": [
    "# get all the information about user id 1\n",
    "user_info[1]"
   ]
  },
  {
   "cell_type": "code",
   "execution_count": null,
   "metadata": {},
   "outputs": [],
   "source": [
    "# get the value for the key \"name\" for user 1\n",
    "user_info[1][\"name\"]"
   ]
  },
  {
   "cell_type": "markdown",
   "metadata": {},
   "source": [
    "Dictionaries are used to store hierarchial data. Because you can nest a dictionary (or list) inside of a dictionary, this allows you to create arbitrarily complex structures of data. "
   ]
  },
  {
   "cell_type": "markdown",
   "metadata": {},
   "source": [
    "## Putting it all together - Stylometrics\n",
    "\n",
    "\n",
    "Don't be afraid of the $5 word, it just a technique for analyzing texts (usually to [determine authorship](https://www.latimes.com/science/sciencenow/la-sci-sn-shakespeare-play-linguistic-analysis-20150410-story.html)). Computational Stylometics does a lot of fancy statistics, but much of it is based on *counting words*. "
   ]
  },
  {
   "cell_type": "code",
   "execution_count": 69,
   "metadata": {},
   "outputs": [],
   "source": [
    "#swoon\n",
    "romeo = \"\"\"\n",
    "But, soft! what light through yonder window breaks?\n",
    "It is the east, and Juliet is the sun.\n",
    "Arise, fair sun, and kill the envious moon,\n",
    "Who is already sick and pale with grief,\n",
    "That thou her maid art far more fair than she:\n",
    "Be not her maid, since she is envious;\n",
    "Her vestal livery is but sick and green\n",
    "And none but fools do wear it; cast it off.\n",
    "It is my lady, O, it is my love!\n",
    "O, that she knew she were!\n",
    "She speaks yet she says nothing: what of that?\n",
    "Her eye discourses; I will answer it.\n",
    "I am too bold, 'tis not to me she speaks:\n",
    "Two of the fairest stars in all the heaven,\n",
    "Having some business, do entreat her eyes\n",
    "To twinkle in their spheres till they return.\n",
    "What if her eyes were there, they in her head?\n",
    "The brightness of her cheek would shame those stars,\n",
    "As daylight doth a lamp; her eyes in heaven\n",
    "Would through the airy region stream so bright\n",
    "That birds would sing and think it were not night.\n",
    "See, how she leans her cheek upon her hand!\n",
    "O, that I were a glove upon that hand,\n",
    "That I might touch that cheek!\n",
    "\"\"\""
   ]
  },
  {
   "cell_type": "markdown",
   "metadata": {},
   "source": [
    "### Computational Thinking\n",
    "\n",
    "If we want to count the words in the text above, we need to do the following things.\n",
    "\n",
    "1. Normalize the text by removing punctuation and converting to lowercase.\n",
    "2. Split the string of text into a list of words\n",
    "3. Loop over the list and count each instance of a word"
   ]
  },
  {
   "cell_type": "code",
   "execution_count": 70,
   "metadata": {},
   "outputs": [
    {
     "data": {
      "text/plain": [
       "\"\\nbut, soft! what light through yonder window breaks?\\nit is the east, and juliet is the sun.\\narise, fair sun, and kill the envious moon,\\nwho is already sick and pale with grief,\\nthat thou her maid art far more fair than she:\\nbe not her maid, since she is envious;\\nher vestal livery is but sick and green\\nand none but fools do wear it; cast it off.\\nit is my lady, o, it is my love!\\no, that she knew she were!\\nshe speaks yet she says nothing: what of that?\\nher eye discourses; i will answer it.\\ni am too bold, 'tis not to me she speaks:\\ntwo of the fairest stars in all the heaven,\\nhaving some business, do entreat her eyes\\nto twinkle in their spheres till they return.\\nwhat if her eyes were there, they in her head?\\nthe brightness of her cheek would shame those stars,\\nas daylight doth a lamp; her eyes in heaven\\nwould through the airy region stream so bright\\nthat birds would sing and think it were not night.\\nsee, how she leans her cheek upon her hand!\\no, that i were a glove upon that hand,\\nthat i might touch that cheek!\\n\""
      ]
     },
     "execution_count": 70,
     "metadata": {},
     "output_type": "execute_result"
    }
   ],
   "source": [
    "# convert everything to lowercase\n",
    "romeo.lower()"
   ]
  },
  {
   "cell_type": "markdown",
   "metadata": {},
   "source": [
    "Now we have everything in lowercase, but we need to remove the punctuation. Now, we could use the `replace()` string method and manually identify and remove each punctuation mark, but that would make for some ugly code."
   ]
  },
  {
   "cell_type": "code",
   "execution_count": 71,
   "metadata": {},
   "outputs": [
    {
     "data": {
      "text/plain": [
       "'\\nBut soft what light through yonder window breaks?\\nIt is the east and Juliet is the sun\\nArise fair sun and kill the envious moon\\nWho is already sick and pale with grief\\nThat thou her maid art far more fair than she:\\nBe not her maid since she is envious;\\nHer vestal livery is but sick and green\\nAnd none but fools do wear it; cast it off\\nIt is my lady O it is my love\\nO that she knew she were\\nShe speaks yet she says nothing: what of that?\\nHer eye discourses; I will answer it\\nI am too bold tis not to me she speaks:\\nTwo of the fairest stars in all the heaven\\nHaving some business do entreat her eyes\\nTo twinkle in their spheres till they return\\nWhat if her eyes were there they in her head?\\nThe brightness of her cheek would shame those stars\\nAs daylight doth a lamp; her eyes in heaven\\nWould through the airy region stream so bright\\nThat birds would sing and think it were not night\\nSee how she leans her cheek upon her hand\\nO that I were a glove upon that hand\\nThat I might touch that cheek\\n'"
      ]
     },
     "execution_count": 71,
     "metadata": {},
     "output_type": "execute_result"
    }
   ],
   "source": [
    "# ugly approach to removing punctuation\n",
    "romeo.replace(\".\",\"\").replace(\",\",\"\").replace(\"!\",\"\").replace(\"'\",\"\") #and so on"
   ]
  },
  {
   "cell_type": "markdown",
   "metadata": {},
   "source": [
    "Wouldn't it be nice it we could do this all in one shot? Fortunately, we can but it is a bit complicated.\n",
    "\n",
    "\n",
    "```\n",
    "Replace each character in the string using the given translation table.\n",
    "\n",
    "table\n",
    "    Translation table, which must be a mapping of Unicode ordinals to\n",
    "    Unicode ordinals, strings, or None.\n",
    "```"
   ]
  },
  {
   "cell_type": "code",
   "execution_count": 72,
   "metadata": {},
   "outputs": [
    {
     "name": "stdout",
     "output_type": "stream",
     "text": [
      "Period: 46\n",
      "Comma: 44\n",
      "Explaination 33\n"
     ]
    }
   ],
   "source": [
    "# remember the ord()\n",
    "print(\"Period:\", ord(\".\"))\n",
    "print(\"Comma:\", ord(\",\"))\n",
    "print(\"Explaination\", ord(\"!\"))"
   ]
  },
  {
   "cell_type": "code",
   "execution_count": null,
   "metadata": {},
   "outputs": [],
   "source": []
  },
  {
   "cell_type": "code",
   "execution_count": 73,
   "metadata": {},
   "outputs": [
    {
     "data": {
      "text/plain": [
       "\"\\nBut soft what light through yonder window breaks?\\nIt is the east and Juliet is the sun\\nArise fair sun and kill the envious moon\\nWho is already sick and pale with grief\\nThat thou her maid art far more fair than she:\\nBe not her maid since she is envious;\\nHer vestal livery is but sick and green\\nAnd none but fools do wear it; cast it off\\nIt is my lady O it is my love\\nO that she knew she were\\nShe speaks yet she says nothing: what of that?\\nHer eye discourses; I will answer it\\nI am too bold 'tis not to me she speaks:\\nTwo of the fairest stars in all the heaven\\nHaving some business do entreat her eyes\\nTo twinkle in their spheres till they return\\nWhat if her eyes were there they in her head?\\nThe brightness of her cheek would shame those stars\\nAs daylight doth a lamp; her eyes in heaven\\nWould through the airy region stream so bright\\nThat birds would sing and think it were not night\\nSee how she leans her cheek upon her hand\\nO that I were a glove upon that hand\\nThat I might touch that cheek\\n\""
      ]
     },
     "execution_count": 73,
     "metadata": {},
     "output_type": "execute_result"
    }
   ],
   "source": [
    "translation_table = {46:\"\",\n",
    "                     44:\"\",\n",
    "                     33:\"\"}\n",
    "romeo.translate(translation_table)"
   ]
  },
  {
   "cell_type": "markdown",
   "metadata": {},
   "source": [
    "We can use the `maketrans()` function to automatically translate characters into their ordinal values"
   ]
  },
  {
   "cell_type": "code",
   "execution_count": 74,
   "metadata": {},
   "outputs": [
    {
     "data": {
      "text/plain": [
       "{46: '', 33: '', 58: '', 44: '', 63: '', 59: ''}"
      ]
     },
     "execution_count": 74,
     "metadata": {},
     "output_type": "execute_result"
    }
   ],
   "source": [
    "punctuation_dictionary = {\n",
    "    \".\":\"\",\n",
    "    \"!\":\"\",\n",
    "    \":\":\"\",\n",
    "    \",\":\"\",\n",
    "    \"?\":\"\",\n",
    "    \";\":\"\",\n",
    "    \",\":\"\"\n",
    "}\n",
    "translation_table = romeo.maketrans(punctuation_dictionary)\n",
    "translation_table"
   ]
  },
  {
   "cell_type": "markdown",
   "metadata": {},
   "source": [
    "Now we can use this table to remove the punctuation from our string"
   ]
  },
  {
   "cell_type": "code",
   "execution_count": 75,
   "metadata": {},
   "outputs": [
    {
     "data": {
      "text/plain": [
       "\"\\nBut soft what light through yonder window breaks\\nIt is the east and Juliet is the sun\\nArise fair sun and kill the envious moon\\nWho is already sick and pale with grief\\nThat thou her maid art far more fair than she\\nBe not her maid since she is envious\\nHer vestal livery is but sick and green\\nAnd none but fools do wear it cast it off\\nIt is my lady O it is my love\\nO that she knew she were\\nShe speaks yet she says nothing what of that\\nHer eye discourses I will answer it\\nI am too bold 'tis not to me she speaks\\nTwo of the fairest stars in all the heaven\\nHaving some business do entreat her eyes\\nTo twinkle in their spheres till they return\\nWhat if her eyes were there they in her head\\nThe brightness of her cheek would shame those stars\\nAs daylight doth a lamp her eyes in heaven\\nWould through the airy region stream so bright\\nThat birds would sing and think it were not night\\nSee how she leans her cheek upon her hand\\nO that I were a glove upon that hand\\nThat I might touch that cheek\\n\""
      ]
     },
     "execution_count": 75,
     "metadata": {},
     "output_type": "execute_result"
    }
   ],
   "source": [
    "romeo.translate(translation_table)"
   ]
  },
  {
   "cell_type": "markdown",
   "metadata": {},
   "source": [
    "But, that was still a lot of typing and it looks like we missed the apostrophe...ugh. More typing means more bugs...\n",
    "\n",
    "If Pythong is *actually* batteries included, then wouldn't this already be a solved problem?"
   ]
  },
  {
   "cell_type": "code",
   "execution_count": 76,
   "metadata": {},
   "outputs": [
    {
     "name": "stdout",
     "output_type": "stream",
     "text": [
      "!\"#$%&'()*+,-./:;<=>?@[\\]^_`{|}~\n"
     ]
    }
   ],
   "source": [
    "# Get a list of all the punctuation from the standard library\n",
    "from string import punctuation\n",
    "print(punctuation)"
   ]
  },
  {
   "cell_type": "code",
   "execution_count": 77,
   "metadata": {},
   "outputs": [
    {
     "data": {
      "text/plain": [
       "{33: None,\n",
       " 34: None,\n",
       " 35: None,\n",
       " 36: None,\n",
       " 37: None,\n",
       " 38: None,\n",
       " 39: None,\n",
       " 40: None,\n",
       " 41: None,\n",
       " 42: None,\n",
       " 43: None,\n",
       " 44: None,\n",
       " 45: None,\n",
       " 46: None,\n",
       " 47: None,\n",
       " 58: None,\n",
       " 59: None,\n",
       " 60: None,\n",
       " 61: None,\n",
       " 62: None,\n",
       " 63: None,\n",
       " 64: None,\n",
       " 91: None,\n",
       " 92: None,\n",
       " 93: None,\n",
       " 94: None,\n",
       " 95: None,\n",
       " 96: None,\n",
       " 123: None,\n",
       " 124: None,\n",
       " 125: None,\n",
       " 126: None}"
      ]
     },
     "execution_count": 77,
     "metadata": {},
     "output_type": "execute_result"
    }
   ],
   "source": [
    "# make our translation table programmatically with the excludes argument\n",
    "translation_table = romeo.maketrans(\"\", \"\", punctuation)\n",
    "translation_table"
   ]
  },
  {
   "cell_type": "code",
   "execution_count": 78,
   "metadata": {},
   "outputs": [
    {
     "data": {
      "text/plain": [
       "'\\nBut soft what light through yonder window breaks\\nIt is the east and Juliet is the sun\\nArise fair sun and kill the envious moon\\nWho is already sick and pale with grief\\nThat thou her maid art far more fair than she\\nBe not her maid since she is envious\\nHer vestal livery is but sick and green\\nAnd none but fools do wear it cast it off\\nIt is my lady O it is my love\\nO that she knew she were\\nShe speaks yet she says nothing what of that\\nHer eye discourses I will answer it\\nI am too bold tis not to me she speaks\\nTwo of the fairest stars in all the heaven\\nHaving some business do entreat her eyes\\nTo twinkle in their spheres till they return\\nWhat if her eyes were there they in her head\\nThe brightness of her cheek would shame those stars\\nAs daylight doth a lamp her eyes in heaven\\nWould through the airy region stream so bright\\nThat birds would sing and think it were not night\\nSee how she leans her cheek upon her hand\\nO that I were a glove upon that hand\\nThat I might touch that cheek\\n'"
      ]
     },
     "execution_count": 78,
     "metadata": {},
     "output_type": "execute_result"
    }
   ],
   "source": [
    "# test our our punctuation remover\n",
    "romeo.translate(translation_table)\n"
   ]
  },
  {
   "cell_type": "markdown",
   "metadata": {},
   "source": [
    "Yes! Now we have almost solved the first step. Now make everything lowercase, fortunately that is easy."
   ]
  },
  {
   "cell_type": "code",
   "execution_count": 79,
   "metadata": {},
   "outputs": [
    {
     "data": {
      "text/plain": [
       "'\\nbut soft what light through yonder window breaks\\nit is the east and juliet is the sun\\narise fair sun and kill the envious moon\\nwho is already sick and pale with grief\\nthat thou her maid art far more fair than she\\nbe not her maid since she is envious\\nher vestal livery is but sick and green\\nand none but fools do wear it cast it off\\nit is my lady o it is my love\\no that she knew she were\\nshe speaks yet she says nothing what of that\\nher eye discourses i will answer it\\ni am too bold tis not to me she speaks\\ntwo of the fairest stars in all the heaven\\nhaving some business do entreat her eyes\\nto twinkle in their spheres till they return\\nwhat if her eyes were there they in her head\\nthe brightness of her cheek would shame those stars\\nas daylight doth a lamp her eyes in heaven\\nwould through the airy region stream so bright\\nthat birds would sing and think it were not night\\nsee how she leans her cheek upon her hand\\no that i were a glove upon that hand\\nthat i might touch that cheek\\n'"
      ]
     },
     "execution_count": 79,
     "metadata": {},
     "output_type": "execute_result"
    }
   ],
   "source": [
    "# normalize the text\n",
    "romeo_normalized = romeo.translate(translation_table).lower()\n",
    "romeo_normalized"
   ]
  },
  {
   "cell_type": "markdown",
   "metadata": {},
   "source": [
    "Now we can do computational thinking step 2: split the string of words into a list. Also an easy task thanks to the string method `split()` which will automatically split on whitespace"
   ]
  },
  {
   "cell_type": "code",
   "execution_count": 80,
   "metadata": {},
   "outputs": [
    {
     "data": {
      "text/plain": [
       "['but',\n",
       " 'soft',\n",
       " 'what',\n",
       " 'light',\n",
       " 'through',\n",
       " 'yonder',\n",
       " 'window',\n",
       " 'breaks',\n",
       " 'it',\n",
       " 'is']"
      ]
     },
     "execution_count": 80,
     "metadata": {},
     "output_type": "execute_result"
    }
   ],
   "source": [
    "#split text into a list of words\n",
    "romeo_list = romeo_normalized.split()\n",
    "romeo_list[0:10] #look at the first 10 words in the list"
   ]
  },
  {
   "cell_type": "markdown",
   "metadata": {},
   "source": [
    "Ok, now we can do the final step, which is loop over each word and count them up in a dictionary"
   ]
  },
  {
   "cell_type": "code",
   "execution_count": 81,
   "metadata": {},
   "outputs": [
    {
     "name": "stdout",
     "output_type": "stream",
     "text": [
      "{'but': 3, 'soft': 1, 'what': 3, 'light': 1, 'through': 2, 'yonder': 1, 'window': 1, 'breaks': 1, 'it': 7, 'is': 7, 'the': 7, 'east': 1, 'and': 6, 'juliet': 1, 'sun': 2, 'arise': 1, 'fair': 2, 'kill': 1, 'envious': 2, 'moon': 1, 'who': 1, 'already': 1, 'sick': 2, 'pale': 1, 'with': 1, 'grief': 1, 'that': 8, 'thou': 1, 'her': 11, 'maid': 2, 'art': 1, 'far': 1, 'more': 1, 'than': 1, 'she': 8, 'be': 1, 'not': 3, 'since': 1, 'vestal': 1, 'livery': 1, 'green': 1, 'none': 1, 'fools': 1, 'do': 2, 'wear': 1, 'cast': 1, 'off': 1, 'my': 2, 'lady': 1, 'o': 3, 'love': 1, 'knew': 1, 'were': 4, 'speaks': 2, 'yet': 1, 'says': 1, 'nothing': 1, 'of': 3, 'eye': 1, 'discourses': 1, 'i': 4, 'will': 1, 'answer': 1, 'am': 1, 'too': 1, 'bold': 1, 'tis': 1, 'to': 2, 'me': 1, 'two': 1, 'fairest': 1, 'stars': 2, 'in': 4, 'all': 1, 'heaven': 2, 'having': 1, 'some': 1, 'business': 1, 'entreat': 1, 'eyes': 3, 'twinkle': 1, 'their': 1, 'spheres': 1, 'till': 1, 'they': 2, 'return': 1, 'if': 1, 'there': 1, 'head': 1, 'brightness': 1, 'cheek': 3, 'would': 3, 'shame': 1, 'those': 1, 'as': 1, 'daylight': 1, 'doth': 1, 'a': 2, 'lamp': 1, 'airy': 1, 'region': 1, 'stream': 1, 'so': 1, 'bright': 1, 'birds': 1, 'sing': 1, 'think': 1, 'night': 1, 'see': 1, 'how': 1, 'leans': 1, 'upon': 2, 'hand': 2, 'glove': 1, 'might': 1, 'touch': 1}\n"
     ]
    }
   ],
   "source": [
    "# create a counter\n",
    "word_counter = {}\n",
    "\n",
    "# loop over each wor\n",
    "for word in romeo_list:\n",
    "    # check to see if we have encountered the word\n",
    "    if word not in word_counter:\n",
    "        # have not seen this word before, so create a key with value 1\n",
    "        word_counter[word] = 1\n",
    "    else: \n",
    "        # we have seen this word before, so increment the value by 1\n",
    "        word_counter[word] += 1\n",
    "\n",
    "print(word_counter)"
   ]
  },
  {
   "cell_type": "code",
   "execution_count": null,
   "metadata": {},
   "outputs": [],
   "source": []
  }
 ],
 "metadata": {
  "kernelspec": {
   "display_name": "Python 3",
   "language": "python",
   "name": "python3"
  },
  "language_info": {
   "codemirror_mode": {
    "name": "ipython",
    "version": 3
   },
   "file_extension": ".py",
   "mimetype": "text/x-python",
   "name": "python",
   "nbconvert_exporter": "python",
   "pygments_lexer": "ipython3",
   "version": "3.8.5"
  }
 },
 "nbformat": 4,
 "nbformat_minor": 4
}
