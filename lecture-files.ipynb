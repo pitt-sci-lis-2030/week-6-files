{
 "cells": [
  {
   "source": [
    "# Files"
   ],
   "cell_type": "markdown",
   "metadata": {}
  },
  {
   "source": [
    "So far we've focused on learning how to do things totally within python.  In the real world, though, we need to interact with data outside of our programs.  One of the most direct way to interact with outside data is through files.  But files are trickly, both in how they are represented and how python accesses them."
   ],
   "cell_type": "markdown",
   "metadata": {}
  },
  {
   "cell_type": "markdown",
   "metadata": {},
   "source": [
    "## Working example -- working with open text on Project Gutenberg\n",
    "\n",
    "There are a lot of books available for free, in the public domain.  We can use this text to explore working with files in python. For instance, Fitzgerald's Gatsby is available on Project Gutenberg AU\n",
    "\n",
    "http://gutenberg.net.au/ebooks02/0200041.txt"
   ]
  },
  {
   "cell_type": "code",
   "execution_count": null,
   "metadata": {},
   "outputs": [],
   "source": [
    "fileHandle = open('gatsby.txt')"
   ]
  },
  {
   "cell_type": "code",
   "execution_count": null,
   "metadata": {},
   "outputs": [],
   "source": [
    "pwd"
   ]
  },
  {
   "cell_type": "code",
   "execution_count": null,
   "metadata": {},
   "outputs": [],
   "source": [
    "fileHandle = open('/Users/biehl/gatsby.txt')"
   ]
  },
  {
   "cell_type": "code",
   "execution_count": null,
   "metadata": {},
   "outputs": [],
   "source": [
    "\n",
    "numberOfLines = 0\n",
    "for line in fileHandle :\n",
    "    numberOfLines += 1\n",
    "    \n",
    "print(numberOfLines)"
   ]
  },
  {
   "cell_type": "markdown",
   "metadata": {},
   "source": [
    "This is an aweful error message, but let's look closely... it's wanting to use a \"codec\" called utf-8.  This is geek speak for how the binary form of the file is encoded... meaning the format of the 1s and 0s of the file.\n",
    "\n",
    "We can find the encoding, on a Mac by calling: \n",
    "file -I {filename} in the terminal."
   ]
  },
  {
   "cell_type": "code",
   "execution_count": null,
   "metadata": {},
   "outputs": [],
   "source": [
    "help(open)"
   ]
  },
  {
   "cell_type": "code",
   "execution_count": null,
   "metadata": {},
   "outputs": [],
   "source": [
    "fileHandle = open('/Users/biehl/gatsby.txt', encoding='iso-8859-1')"
   ]
  },
  {
   "cell_type": "code",
   "execution_count": null,
   "metadata": {},
   "outputs": [],
   "source": [
    "numberOfLines = 0\n",
    "for line in fileHandle :\n",
    "    numberOfLines += 1\n",
    "    \n",
    "print(numberOfLines)"
   ]
  },
  {
   "cell_type": "markdown",
   "metadata": {},
   "source": [
    "the fileHandle is a like a VHS tape... the iterator has to be rewound:"
   ]
  },
  {
   "cell_type": "code",
   "execution_count": null,
   "metadata": {},
   "outputs": [],
   "source": [
    "fileHandle.seek(0)"
   ]
  },
  {
   "cell_type": "code",
   "execution_count": null,
   "metadata": {},
   "outputs": [],
   "source": [
    "numberOfChapters = 0\n",
    "for line in fileHandle :\n",
    "    line = line.lstrip()\n",
    "    if line.startswith('Chapter') :\n",
    "        numberOfChapters += 1\n",
    "\n",
    "print(numberOfChapters)"
   ]
  },
  {
   "cell_type": "code",
   "execution_count": null,
   "metadata": {},
   "outputs": [],
   "source": [
    "countJay = 0\n",
    "countDaisy = 0\n",
    "\n",
    "fileHandle.seek(0)\n",
    "for line in fileHandle :\n",
    "    if line.find('Jay') != -1 :\n",
    "        countJay += 1\n",
    "    elif line.find('Daisy') != -1 :\n",
    "        countDaisy += 1\n",
    "\n",
    "print(countJay)\n",
    "print(countDaisy)"
   ]
  },
  {
   "cell_type": "markdown",
   "metadata": {},
   "source": [
    "Data that we put into files can also be structured, for instance in table form.\n",
    "\n",
    "For instance, Census data is available online:\n",
    "\n",
    "http://census.ire.org/data/bulkdata.html"
   ]
  },
  {
   "cell_type": "code",
   "execution_count": null,
   "metadata": {},
   "outputs": [],
   "source": [
    "import csv\n",
    "\n",
    "csvHandle = open('/Users/biehl/all_050_in_42.P17.csv')\n",
    "csvReader = csv.reader(csvHandle)\n",
    "row0 = next(csvReader)\n",
    "print(row0)"
   ]
  },
  {
   "cell_type": "code",
   "execution_count": null,
   "metadata": {},
   "outputs": [],
   "source": [
    "highest = -float('inf')\n",
    "lowest = float('inf')\n",
    "\n",
    "largestFamiliesCounty = ''\n",
    "smallestFamiliesCounty = ''\n",
    "\n",
    "for row in csvReader :\n",
    "    if float(row[13]) > highest :\n",
    "        highest = float(row[13])\n",
    "        largestFamiliesCounty = row[8] + ' ' + row[13]\n",
    "    \n",
    "    if float(row[13]) < lowest :\n",
    "        lowest = float(row[13])\n",
    "        smallestFamiliesCounty = row[8] + ' ' + row[13]\n",
    "        \n",
    "\n",
    "print(largestFamiliesCounty)\n",
    "print(smallestFamiliesCounty)\n",
    "\n",
    "\n",
    "        \n"
   ]
  },
  {
   "cell_type": "code",
   "execution_count": null,
   "metadata": {},
   "outputs": [],
   "source": []
  }
 ],
 "metadata": {
  "kernelspec": {
   "display_name": "Python 3",
   "language": "python",
   "name": "python3"
  },
  "language_info": {
   "codemirror_mode": {
    "name": "ipython",
    "version": 3
   },
   "file_extension": ".py",
   "mimetype": "text/x-python",
   "name": "python",
   "nbconvert_exporter": "python",
   "pygments_lexer": "ipython3",
   "version": "3.7.6"
  }
 },
 "nbformat": 4,
 "nbformat_minor": 2
}