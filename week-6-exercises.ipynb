{
 "cells": [
  {
   "cell_type": "markdown",
   "metadata": {},
   "source": [
    "## Dictionaries"
   ]
  },
  {
   "cell_type": "markdown",
   "metadata": {},
   "source": [
    "**Q1** This question has two parts. The first part asks about your conceptual understanding so you will write your response in Markdown. The second part asks to add some comments to some Python code to explain the computational process."
   ]
  },
  {
   "cell_type": "markdown",
   "metadata": {},
   "source": [
    "**Q1(1)** Please describe your conceptual understanding of Dictionaries in the Markdown cell below. Specifically address the following three points:\n",
    "1. What is an item of Dictionaries?\n",
    "2. What are the data type of the items?\n",
    "3. What is the purpose of using Python Dictionaries? Please provide at least 2 examples\n",
    "\n",
    "Insert your answer in the cell below (use markdown to describe)"
   ]
  },
  {
   "cell_type": "markdown",
   "metadata": {},
   "source": []
  },
  {
   "cell_type": "markdown",
   "metadata": {},
   "source": [
    "**Q1(b)** Look at the code cell below and add code comments to describe what the Python code is doing. For each line of code, insert a new line above with a code comment describing what is happening in english.\n",
    "\n",
    "*Hint*: Look at the lecture and activity notebooks for some guidance on describing what is happening in code comments"
   ]
  },
  {
   "cell_type": "code",
   "execution_count": 2,
   "metadata": {},
   "outputs": [
    {
     "name": "stdout",
     "output_type": "stream",
     "text": [
      "{'name_1': 'Nova', 'name_2': 'Tim'}\n"
     ]
    }
   ],
   "source": [
    "myDict = dict()\n",
    "myDict[\"name_1\"] = \"Nova\"\n",
    "myDict[\"name_2\"] = \"Tim\"\n",
    "print(myDict)"
   ]
  },
  {
   "cell_type": "markdown",
   "metadata": {},
   "source": [
    "## Files"
   ]
  },
  {
   "cell_type": "markdown",
   "metadata": {},
   "source": [
    "**Q2** You have been provided with an open acess version of **Hamlet** in plain text format (see `hamlet.txt`).  Complete the following file processing tasks in Python:"
   ]
  },
  {
   "cell_type": "markdown",
   "metadata": {},
   "source": [
    "**Q2(a)** Load a file handler that connects to the text file `hamlet.txt`."
   ]
  },
  {
   "cell_type": "code",
   "execution_count": null,
   "metadata": {},
   "outputs": [],
   "source": [
    "# Your code here\n"
   ]
  },
  {
   "cell_type": "markdown",
   "metadata": {},
   "source": [
    "**Q2(b)** Loop through the contents of the file and count the number lines."
   ]
  },
  {
   "cell_type": "code",
   "execution_count": null,
   "metadata": {},
   "outputs": [],
   "source": [
    "# Your code here\n"
   ]
  },
  {
   "cell_type": "markdown",
   "metadata": {},
   "source": [
    "**Q2(c)** Move the pointer back to the beginning of the file then loop back through the contents to count the number of ACTs in Hamlet.\n",
    "\n",
    "* *Hint* Use the `seek()` method to reset the file handler to the beginning.\n",
    "* *Hint 2* Open the `hamlet.txt` file and look for indicators in the text that an \"ACT\" has begun."
   ]
  },
  {
   "cell_type": "code",
   "execution_count": 1,
   "metadata": {},
   "outputs": [],
   "source": [
    "# Your code here\n"
   ]
  },
  {
   "cell_type": "markdown",
   "metadata": {},
   "source": [
    "**Q2(d)** There are many characters in Hamlet, write some code that will count the number of times each character, *Hamlet, Francisco, Bernardo, Horatio and Marcellus* have a speaking line in `hamlet.txt`. Keep track of your counts in a dictionary. Focus on the character names only, don't worry about names in action lines or in the dialog itself. \n",
    "\n",
    "* *Hint* Don't forget to rest the pointer to the beginning of the file.\n",
    "* *Hint 2* Think about how the a dictionary item could represent a character and a count. Remember, counts will start at 0.\n"
   ]
  },
  {
   "cell_type": "code",
   "execution_count": null,
   "metadata": {},
   "outputs": [],
   "source": [
    "# Your code here\n"
   ]
  },
  {
   "cell_type": "code",
   "execution_count": null,
   "metadata": {},
   "outputs": [],
   "source": []
  }
 ],
 "metadata": {
  "kernelspec": {
   "display_name": "Python 3",
   "language": "python",
   "name": "python3"
  },
  "language_info": {
   "codemirror_mode": {
    "name": "ipython",
    "version": 3
   },
   "file_extension": ".py",
   "mimetype": "text/x-python",
   "name": "python",
   "nbconvert_exporter": "python",
   "pygments_lexer": "ipython3",
   "version": "3.8.5"
  }
 },
 "nbformat": 4,
 "nbformat_minor": 4
}
